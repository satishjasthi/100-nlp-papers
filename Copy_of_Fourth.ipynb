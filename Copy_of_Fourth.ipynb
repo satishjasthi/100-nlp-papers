{
  "nbformat": 4,
  "nbformat_minor": 0,
  "metadata": {
    "colab": {
      "name": "Copy of Fourth.ipynb",
      "version": "0.3.2",
      "provenance": [],
      "include_colab_link": true
    },
    "language_info": {
      "codemirror_mode": {
        "name": "ipython",
        "version": 3
      },
      "file_extension": ".py",
      "mimetype": "text/x-python",
      "name": "python",
      "nbconvert_exporter": "python",
      "pygments_lexer": "ipython3",
      "version": "3.6.3"
    },
    "kernelspec": {
      "name": "python3",
      "display_name": "Python 3"
    },
    "accelerator": "GPU"
  },
  "cells": [
    {
      "cell_type": "markdown",
      "metadata": {
        "id": "view-in-github",
        "colab_type": "text"
      },
      "source": [
        "<a href=\"https://colab.research.google.com/github/satishjasthi/100-nlp-papers/blob/master/Copy_of_Fourth.ipynb\" target=\"_parent\"><img src=\"https://colab.research.google.com/assets/colab-badge.svg\" alt=\"Open In Colab\"/></a>"
      ]
    },
    {
      "cell_type": "markdown",
      "metadata": {
        "id": "11k462s9pISj",
        "colab_type": "text"
      },
      "source": [
        "**Objectives:**\n",
        "\n",
        "???"
      ]
    },
    {
      "cell_type": "markdown",
      "metadata": {
        "id": "zbqKZA54pISo",
        "colab_type": "text"
      },
      "source": [
        "**Imports**"
      ]
    },
    {
      "cell_type": "code",
      "metadata": {
        "id": "_QWmiv9npISq",
        "colab_type": "code",
        "colab": {
          "base_uri": "https://localhost:8080/",
          "height": 34
        },
        "outputId": "a6c6bed5-56fd-4836-c7cb-c587cf73e395"
      },
      "source": [
        "import numpy as np\n",
        "import keras\n",
        "import seaborn as sns\n",
        "from datetime import datetime\n",
        "from datetime import datetime\n",
        "from keras.models import Sequential\n",
        "from collections import Counter\n",
        "from keras.layers import Dense, Dropout, Activation, Flatten, Add, BatchNormalization\n",
        "from keras.layers import Convolution2D, MaxPooling2D\n",
        "from keras.utils import np_utils\n",
        "from collections import defaultdict\n",
        "from sklearn.metrics import confusion_matrix\n",
        "from IPython.display import display, Markdown\n",
        "from sklearn.utils.multiclass import unique_labels\n",
        "from keras import regularizers\n",
        "from keras.callbacks import ModelCheckpoint, TensorBoard,LearningRateScheduler\n",
        "\n",
        "from keras.datasets import mnist"
      ],
      "execution_count": 1,
      "outputs": [
        {
          "output_type": "stream",
          "text": [
            "Using TensorFlow backend.\n"
          ],
          "name": "stderr"
        }
      ]
    },
    {
      "cell_type": "markdown",
      "metadata": {
        "id": "ZmiRuj2TpIS0",
        "colab_type": "text"
      },
      "source": [
        "**Create train and test splits**"
      ]
    },
    {
      "cell_type": "code",
      "metadata": {
        "id": "XnnETfRKpIS1",
        "colab_type": "code",
        "colab": {}
      },
      "source": [
        "(X_train, y_train), (X_test, y_test) = mnist.load_data()"
      ],
      "execution_count": 0,
      "outputs": []
    },
    {
      "cell_type": "markdown",
      "metadata": {
        "id": "eZjfBRLTpIS8",
        "colab_type": "text"
      },
      "source": [
        "**Visualize a single image**"
      ]
    },
    {
      "cell_type": "code",
      "metadata": {
        "id": "88zFVwWjpIS-",
        "colab_type": "code",
        "outputId": "034175d1-527f-4a68-e268-138d6de50e9a",
        "colab": {
          "base_uri": "https://localhost:8080/",
          "height": 304
        }
      },
      "source": [
        "print (X_train.shape)\n",
        "from matplotlib import pyplot as plt\n",
        "%matplotlib inline\n",
        "plt.imshow(X_train[0])"
      ],
      "execution_count": 3,
      "outputs": [
        {
          "output_type": "stream",
          "text": [
            "(60000, 28, 28)\n"
          ],
          "name": "stdout"
        },
        {
          "output_type": "execute_result",
          "data": {
            "text/plain": [
              "<matplotlib.image.AxesImage at 0x7f489267edd8>"
            ]
          },
          "metadata": {
            "tags": []
          },
          "execution_count": 3
        },
        {
          "output_type": "display_data",
          "data": {
            "image/png": "[encoded data removed]",
            "text/plain": [
              "<Figure size 432x288 with 1 Axes>"
            ]
          },
          "metadata": {
            "tags": []
          }
        }
      ]
    },
    {
      "cell_type": "markdown",
      "metadata": {
        "id": "ZHm96W6WpITJ",
        "colab_type": "text"
      },
      "source": [
        "**Reshape image array into three dimensional matrix**"
      ]
    },
    {
      "cell_type": "code",
      "metadata": {
        "id": "NI8wOaiVpITL",
        "colab_type": "code",
        "colab": {}
      },
      "source": [
        "X_train = X_train.reshape(X_train.shape[0], 28, 28,1)\n",
        "X_test = X_test.reshape(X_test.shape[0], 28, 28,1)\n"
      ],
      "execution_count": 0,
      "outputs": []
    },
    {
      "cell_type": "markdown",
      "metadata": {
        "id": "54s7Xs5_pITQ",
        "colab_type": "text"
      },
      "source": [
        "**Convert Image data type to float and normalize all pixels(Pixel Normalization)**"
      ]
    },
    {
      "cell_type": "code",
      "metadata": {
        "id": "gnTmAeG0pITR",
        "colab_type": "code",
        "colab": {}
      },
      "source": [
        "X_train = X_train.astype('float32')\n",
        "X_test = X_test.astype('float32')\n",
        "X_train /= 255\n",
        "X_test /= 255"
      ],
      "execution_count": 0,
      "outputs": []
    },
    {
      "cell_type": "markdown",
      "metadata": {
        "id": "HbuTzSaxrCzs",
        "colab_type": "text"
      },
      "source": [
        "**Standardize the images using:**\n",
        "\n",
        "$X_{standardized} = \\frac{X - \\mu}{\\sigma}$"
      ]
    },
    {
      "cell_type": "code",
      "metadata": {
        "id": "Cd_bOfVFq1-Y",
        "colab_type": "code",
        "colab": {}
      },
      "source": [
        "X_train_stand = np.empty_like(X_train)\n",
        "X_test_stand = np.empty_like(X_test)\n",
        "\n",
        "for index, image in enumerate(X_train):\n",
        "  mu, std = image.mean(), image.std()\n",
        "  X_train_stand[index, :, :, :] = (image - mu)/std\n",
        "  \n",
        "for index, image in enumerate(X_test):\n",
        "  mu, std = image.mean(), image.std()\n",
        "  X_test_stand[index, :, :, :] = (image - mu)/std\n"
      ],
      "execution_count": 0,
      "outputs": []
    },
    {
      "cell_type": "markdown",
      "metadata": {
        "id": "pNf1zduBsJBv",
        "colab_type": "text"
      },
      "source": [
        "# ?? Visualize X_train and X_train_stand"
      ]
    },
    {
      "cell_type": "code",
      "metadata": {
        "id": "sFatbn8MEgDK",
        "colab_type": "code",
        "outputId": "f73cf98b-ca22-40eb-e9f7-af262ba61274",
        "colab": {
          "base_uri": "https://localhost:8080/",
          "height": 286
        }
      },
      "source": [
        "plt.imshow(X_train_stand[1].reshape((28,28)))"
      ],
      "execution_count": 7,
      "outputs": [
        {
          "output_type": "execute_result",
          "data": {
            "text/plain": [
              "<matplotlib.image.AxesImage at 0x7f4890618908>"
            ]
          },
          "metadata": {
            "tags": []
          },
          "execution_count": 7
        },
        {
          "output_type": "display_data",
          "data": {
            "image/png": "[encoded data removed]",
            "text/plain": [
              "<Figure size 432x288 with 1 Axes>"
            ]
          },
          "metadata": {
            "tags": []
          }
        }
      ]
    },
    {
      "cell_type": "code",
      "metadata": {
        "id": "tqI4jMzssH_N",
        "colab_type": "code",
        "outputId": "c8dbffbb-4ef1-4162-b704-2a0597f63dfc",
        "colab": {
          "base_uri": "https://localhost:8080/",
          "height": 556
        }
      },
      "source": [
        "print('Non Standardized data')\n",
        "sns.distplot(X_train[10].reshape((28*28)))\n",
        "plt.show()\n",
        "\n",
        "print('Standardized data')\n",
        "sns.distplot(X_train_stand[10].reshape((28*28)))\n",
        "plt.show()"
      ],
      "execution_count": 8,
      "outputs": [
        {
          "output_type": "stream",
          "text": [
            "Non Standardized data\n"
          ],
          "name": "stdout"
        },
        {
          "output_type": "display_data",
          "data": {
            "image/png": "[encoded data removed]",
            "text/plain": [
              "<Figure size 432x288 with 1 Axes>"
            ]
          },
          "metadata": {
            "tags": []
          }
        },
        {
          "output_type": "stream",
          "text": [
            "Standardized data\n"
          ],
          "name": "stdout"
        },
        {
          "output_type": "display_data",
          "data": {
            "image/png": "[encoded data removed]",
            "text/plain": [
              "<Figure size 432x288 with 1 Axes>"
            ]
          },
          "metadata": {
            "tags": []
          }
        }
      ]
    },
    {
      "cell_type": "markdown",
      "metadata": {
        "id": "koW--tYmpITY",
        "colab_type": "text"
      },
      "source": [
        "**Convert 1-dimensional class arrays to 10-dimensional class matrices**\n"
      ]
    },
    {
      "cell_type": "code",
      "metadata": {
        "id": "KvzDL1uSpITZ",
        "colab_type": "code",
        "colab": {}
      },
      "source": [
        "Y_train = np_utils.to_categorical(y_train, 10)\n",
        "Y_test = np_utils.to_categorical(y_test, 10)"
      ],
      "execution_count": 0,
      "outputs": []
    },
    {
      "cell_type": "markdown",
      "metadata": {
        "id": "xT8ZSwV0pITd",
        "colab_type": "text"
      },
      "source": [
        "**Why Learning rate scheduler ?**\n",
        "    \n",
        "As the model moves closer to global optima in loss function it should it take smaller steps so that it won't oscillate around minima position and settle at minima position, however, in all our previous models we were using a constant learning rate, instead if can reduce the lr as the model progress it might help model to settle at optimal position in loss function.\n"
      ]
    },
    {
      "cell_type": "code",
      "metadata": {
        "scrolled": true,
        "id": "Dj07yvzopITf",
        "colab_type": "code",
        "outputId": "9b5a5db1-c30b-42f5-df8a-bc4fb9b2f8f6",
        "colab": {
          "base_uri": "https://localhost:8080/",
          "height": 1478
        }
      },
      "source": [
        "model = Sequential()\n",
        "\n",
        " \n",
        "model.add(Convolution2D(8, 3, 3,  input_shape=(28,28,1), use_bias=False, kernel_regularizer=regularizers.l2(0.01))) # 26\n",
        "model.add(BatchNormalization())\n",
        "model.add(Activation('relu'))\n",
        "# model.add(Dropout(0.1))\n",
        "\n",
        "\n",
        "model.add(Convolution2D(10, 3, 3,  use_bias=False, kernel_regularizer=regularizers.l2(0.01))) # 24\n",
        "model.add(BatchNormalization())\n",
        "model.add(Activation('relu'))\n",
        "# model.add(Dropout(0.1))\n",
        "\n",
        "model.add(Convolution2D(12, 3, 3,  use_bias=False, kernel_regularizer=regularizers.l2(0.01))) # 22\n",
        "model.add(BatchNormalization())\n",
        "model.add(Activation('relu'))\n",
        "# model.add(Dropout(0.1))\n",
        "\n",
        "model.add(MaxPooling2D(pool_size=(2, 2))) # 11\n",
        "model.add(Convolution2D(8, 1, 1, use_bias=False, kernel_regularizer=regularizers.l2(0.01))) # 11\n",
        "model.add(BatchNormalization())\n",
        "model.add(Activation('relu'))\n",
        "# model.add(Dropout(0.1))\n",
        "\n",
        "model.add(Convolution2D(10, 3, 3,  use_bias=False, kernel_regularizer=regularizers.l2(0.01))) # 9\n",
        "model.add(BatchNormalization())\n",
        "model.add(Activation('relu'))\n",
        "# model.add(Dropout(0.1))\n",
        "\n",
        "model.add(Convolution2D(12, 3, 3,  use_bias=False, kernel_regularizer=regularizers.l2(0.01))) # 7\n",
        "model.add(BatchNormalization())\n",
        "model.add(Activation('relu'))\n",
        "# model.add(Dropout(0.1))\n",
        "\n",
        "model.add(Convolution2D(12, 3, 3,  use_bias=False, kernel_regularizer=regularizers.l2(0.01))) # 5\n",
        "model.add(BatchNormalization())\n",
        "model.add(Activation('relu'))\n",
        "# model.add(Dropout(0.1))\n",
        "\n",
        "model.add(Convolution2D(12, 3, 3,  use_bias=False, kernel_regularizer=regularizers.l2(0.01))) # 3\n",
        "model.add(BatchNormalization())\n",
        "model.add(Activation('relu'))\n",
        "# model.add(Dropout(0.1))\n",
        "\n",
        "model.add(Convolution2D(10, 1,  use_bias=False, kernel_regularizer=regularizers.l2(0.01))) # 3\n",
        "model.add(BatchNormalization())\n",
        "model.add(Activation('relu'))\n",
        "\n",
        "model.add(Convolution2D(10, 3, use_bias=False, kernel_regularizer=regularizers.l2(0.01))) #1\n",
        "\n",
        "model.add(Flatten())\n",
        "\n",
        "model.add(Activation('softmax'))\n",
        "\n",
        "model.summary()"
      ],
      "execution_count": 16,
      "outputs": [
        {
          "output_type": "stream",
          "text": [
            "WARNING:tensorflow:From /usr/local/lib/python3.6/dist-packages/tensorflow/python/framework/op_def_library.py:263: colocate_with (from tensorflow.python.framework.ops) is deprecated and will be removed in a future version.\n",
            "Instructions for updating:\n",
            "Colocations handled automatically by placer.\n"
          ],
          "name": "stdout"
        },
        {
          "output_type": "stream",
          "text": [
            "/usr/local/lib/python3.6/dist-packages/ipykernel_launcher.py:4: UserWarning: Update your `Conv2D` call to the Keras 2 API: `Conv2D(8, (3, 3), input_shape=(28, 28, 1..., use_bias=False, kernel_regularizer=<keras.reg...)`\n",
            "  after removing the cwd from sys.path.\n",
            "/usr/local/lib/python3.6/dist-packages/ipykernel_launcher.py:10: UserWarning: Update your `Conv2D` call to the Keras 2 API: `Conv2D(10, (3, 3), use_bias=False, kernel_regularizer=<keras.reg...)`\n",
            "  # Remove the CWD from sys.path while we load stuff.\n",
            "/usr/local/lib/python3.6/dist-packages/ipykernel_launcher.py:15: UserWarning: Update your `Conv2D` call to the Keras 2 API: `Conv2D(12, (3, 3), use_bias=False, kernel_regularizer=<keras.reg...)`\n",
            "  from ipykernel import kernelapp as app\n",
            "/usr/local/lib/python3.6/dist-packages/ipykernel_launcher.py:21: UserWarning: Update your `Conv2D` call to the Keras 2 API: `Conv2D(8, (1, 1), use_bias=False, kernel_regularizer=<keras.reg...)`\n",
            "/usr/local/lib/python3.6/dist-packages/ipykernel_launcher.py:26: UserWarning: Update your `Conv2D` call to the Keras 2 API: `Conv2D(10, (3, 3), use_bias=False, kernel_regularizer=<keras.reg...)`\n",
            "/usr/local/lib/python3.6/dist-packages/ipykernel_launcher.py:31: UserWarning: Update your `Conv2D` call to the Keras 2 API: `Conv2D(12, (3, 3), use_bias=False, kernel_regularizer=<keras.reg...)`\n",
            "/usr/local/lib/python3.6/dist-packages/ipykernel_launcher.py:36: UserWarning: Update your `Conv2D` call to the Keras 2 API: `Conv2D(12, (3, 3), use_bias=False, kernel_regularizer=<keras.reg...)`\n",
            "/usr/local/lib/python3.6/dist-packages/ipykernel_launcher.py:41: UserWarning: Update your `Conv2D` call to the Keras 2 API: `Conv2D(12, (3, 3), use_bias=False, kernel_regularizer=<keras.reg...)`\n"
          ],
          "name": "stderr"
        },
        {
          "output_type": "stream",
          "text": [
            "_________________________________________________________________\n",
            "Layer (type)                 Output Shape              Param #   \n",
            "=================================================================\n",
            "conv2d_1 (Conv2D)            (None, 26, 26, 8)         72        \n",
            "_________________________________________________________________\n",
            "batch_normalization_1 (Batch (None, 26, 26, 8)         32        \n",
            "_________________________________________________________________\n",
            "activation_1 (Activation)    (None, 26, 26, 8)         0         \n",
            "_________________________________________________________________\n",
            "conv2d_2 (Conv2D)            (None, 24, 24, 10)        720       \n",
            "_________________________________________________________________\n",
            "batch_normalization_2 (Batch (None, 24, 24, 10)        40        \n",
            "_________________________________________________________________\n",
            "activation_2 (Activation)    (None, 24, 24, 10)        0         \n",
            "_________________________________________________________________\n",
            "conv2d_3 (Conv2D)            (None, 22, 22, 12)        1080      \n",
            "_________________________________________________________________\n",
            "batch_normalization_3 (Batch (None, 22, 22, 12)        48        \n",
            "_________________________________________________________________\n",
            "activation_3 (Activation)    (None, 22, 22, 12)        0         \n",
            "_________________________________________________________________\n",
            "max_pooling2d_1 (MaxPooling2 (None, 11, 11, 12)        0         \n",
            "_________________________________________________________________\n",
            "conv2d_4 (Conv2D)            (None, 11, 11, 8)         96        \n",
            "_________________________________________________________________\n",
            "batch_normalization_4 (Batch (None, 11, 11, 8)         32        \n",
            "_________________________________________________________________\n",
            "activation_4 (Activation)    (None, 11, 11, 8)         0         \n",
            "_________________________________________________________________\n",
            "conv2d_5 (Conv2D)            (None, 9, 9, 10)          720       \n",
            "_________________________________________________________________\n",
            "batch_normalization_5 (Batch (None, 9, 9, 10)          40        \n",
            "_________________________________________________________________\n",
            "activation_5 (Activation)    (None, 9, 9, 10)          0         \n",
            "_________________________________________________________________\n",
            "conv2d_6 (Conv2D)            (None, 7, 7, 12)          1080      \n",
            "_________________________________________________________________\n",
            "batch_normalization_6 (Batch (None, 7, 7, 12)          48        \n",
            "_________________________________________________________________\n",
            "activation_6 (Activation)    (None, 7, 7, 12)          0         \n",
            "_________________________________________________________________\n",
            "conv2d_7 (Conv2D)            (None, 5, 5, 12)          1296      \n",
            "_________________________________________________________________\n",
            "batch_normalization_7 (Batch (None, 5, 5, 12)          48        \n",
            "_________________________________________________________________\n",
            "activation_7 (Activation)    (None, 5, 5, 12)          0         \n",
            "_________________________________________________________________\n",
            "conv2d_8 (Conv2D)            (None, 3, 3, 12)          1296      \n",
            "_________________________________________________________________\n",
            "batch_normalization_8 (Batch (None, 3, 3, 12)          48        \n",
            "_________________________________________________________________\n",
            "activation_8 (Activation)    (None, 3, 3, 12)          0         \n",
            "_________________________________________________________________\n",
            "conv2d_9 (Conv2D)            (None, 3, 3, 10)          120       \n",
            "_________________________________________________________________\n",
            "batch_normalization_9 (Batch (None, 3, 3, 10)          40        \n",
            "_________________________________________________________________\n",
            "activation_9 (Activation)    (None, 3, 3, 10)          0         \n",
            "_________________________________________________________________\n",
            "conv2d_10 (Conv2D)           (None, 1, 1, 10)          900       \n",
            "_________________________________________________________________\n",
            "flatten_1 (Flatten)          (None, 10)                0         \n",
            "_________________________________________________________________\n",
            "activation_10 (Activation)   (None, 10)                0         \n",
            "=================================================================\n",
            "Total params: 7,756\n",
            "Trainable params: 7,568\n",
            "Non-trainable params: 188\n",
            "_________________________________________________________________\n"
          ],
          "name": "stdout"
        }
      ]
    },
    {
      "cell_type": "code",
      "metadata": {
        "id": "-Yejqjm9pITn",
        "colab_type": "code",
        "colab": {}
      },
      "source": [
        "def scheduler(epoch, lr):\n",
        "    return round(0.003 * 1/(1 + 0.319 * epoch), 10)\n",
        "\n",
        "model.compile(loss='categorical_crossentropy',\n",
        "             optimizer='adam',\n",
        "             metrics=['accuracy'])"
      ],
      "execution_count": 0,
      "outputs": []
    },
    {
      "cell_type": "code",
      "metadata": {
        "id": "3orCARqFpITs",
        "colab_type": "code",
        "colab": {}
      },
      "source": [
        "filepath=\"Fourth_weights/weights-improvement-{epoch:02d}-{val_acc:.2f}.hdf5\"\n",
        "checkpoint = ModelCheckpoint(filepath, monitor='val_acc', verbose=1, save_best_only=True, mode='max')"
      ],
      "execution_count": 0,
      "outputs": []
    },
    {
      "cell_type": "code",
      "metadata": {
        "id": "Z2iUjXPq6Z8r",
        "colab_type": "code",
        "outputId": "dd532338-3eed-4ef7-f2b4-b082e48e16ac",
        "colab": {
          "base_uri": "https://localhost:8080/",
          "height": 34
        }
      },
      "source": [
        "! mkdir Fourth_weights"
      ],
      "execution_count": 19,
      "outputs": [
        {
          "output_type": "stream",
          "text": [
            "mkdir: cannot create directory ‘Fourth_weights’: File exists\n"
          ],
          "name": "stdout"
        }
      ]
    },
    {
      "cell_type": "code",
      "metadata": {
        "scrolled": true,
        "id": "hDVfupJppITx",
        "colab_type": "code",
        "outputId": "1df058fe-cbee-4a2a-c4d0-4da932f3ae79",
        "colab": {
          "base_uri": "https://localhost:8080/",
          "height": 4274
        }
      },
      "source": [
        "model_logs = model.fit(X_train_stand, Y_train,\n",
        "                       batch_size=128, \n",
        "                       epochs=40,\n",
        "                       verbose=1, \n",
        "                       validation_data=(X_test_stand, Y_test), \n",
        "                       callbacks=[checkpoint,LearningRateScheduler(scheduler, verbose=1)]\n",
        "                      )"
      ],
      "execution_count": 20,
      "outputs": [
        {
          "output_type": "stream",
          "text": [
            "WARNING:tensorflow:From /usr/local/lib/python3.6/dist-packages/tensorflow/python/ops/math_ops.py:3066: to_int32 (from tensorflow.python.ops.math_ops) is deprecated and will be removed in a future version.\n",
            "Instructions for updating:\n",
            "Use tf.cast instead.\n",
            "Train on 60000 samples, validate on 10000 samples\n",
            "Epoch 1/40\n",
            "\n",
            "Epoch 00001: LearningRateScheduler setting learning rate to 0.003.\n",
            "60000/60000 [==============================] - 16s 264us/step - loss: 0.6906 - acc: 0.9221 - val_loss: 0.9511 - val_acc: 0.7422\n",
            "\n",
            "Epoch 00001: val_acc improved from -inf to 0.74220, saving model to Fourth_weights/weights-improvement-01-0.74.hdf5\n",
            "Epoch 2/40\n",
            "\n",
            "Epoch 00002: LearningRateScheduler setting learning rate to 0.0022744503.\n",
            "60000/60000 [==============================] - 13s 211us/step - loss: 0.2101 - acc: 0.9766 - val_loss: 0.3239 - val_acc: 0.9413\n",
            "\n",
            "Epoch 00002: val_acc improved from 0.74220 to 0.94130, saving model to Fourth_weights/weights-improvement-02-0.94.hdf5\n",
            "Epoch 3/40\n",
            "\n",
            "Epoch 00003: LearningRateScheduler setting learning rate to 0.0018315018.\n",
            "60000/60000 [==============================] - 13s 213us/step - loss: 0.1649 - acc: 0.9798 - val_loss: 0.1639 - val_acc: 0.9790\n",
            "\n",
            "Epoch 00003: val_acc improved from 0.94130 to 0.97900, saving model to Fourth_weights/weights-improvement-03-0.98.hdf5\n",
            "Epoch 4/40\n",
            "\n",
            "Epoch 00004: LearningRateScheduler setting learning rate to 0.0015329586.\n",
            "60000/60000 [==============================] - 12s 208us/step - loss: 0.1391 - acc: 0.9833 - val_loss: 0.1528 - val_acc: 0.9786\n",
            "\n",
            "Epoch 00004: val_acc did not improve from 0.97900\n",
            "Epoch 5/40\n",
            "\n",
            "Epoch 00005: LearningRateScheduler setting learning rate to 0.0013181019.\n",
            "60000/60000 [==============================] - 12s 206us/step - loss: 0.1239 - acc: 0.9842 - val_loss: 0.1441 - val_acc: 0.9780\n",
            "\n",
            "Epoch 00005: val_acc did not improve from 0.97900\n",
            "Epoch 6/40\n",
            "\n",
            "Epoch 00006: LearningRateScheduler setting learning rate to 0.0011560694.\n",
            "60000/60000 [==============================] - 13s 214us/step - loss: 0.1157 - acc: 0.9846 - val_loss: 0.1390 - val_acc: 0.9763\n",
            "\n",
            "Epoch 00006: val_acc did not improve from 0.97900\n",
            "Epoch 7/40\n",
            "\n",
            "Epoch 00007: LearningRateScheduler setting learning rate to 0.0010295127.\n",
            "60000/60000 [==============================] - 13s 213us/step - loss: 0.1057 - acc: 0.9868 - val_loss: 0.1141 - val_acc: 0.9861\n",
            "\n",
            "Epoch 00007: val_acc improved from 0.97900 to 0.98610, saving model to Fourth_weights/weights-improvement-07-0.99.hdf5\n",
            "Epoch 8/40\n",
            "\n",
            "Epoch 00008: LearningRateScheduler setting learning rate to 0.0009279307.\n",
            "60000/60000 [==============================] - 13s 210us/step - loss: 0.0998 - acc: 0.9872 - val_loss: 0.0925 - val_acc: 0.9896\n",
            "\n",
            "Epoch 00008: val_acc improved from 0.98610 to 0.98960, saving model to Fourth_weights/weights-improvement-08-0.99.hdf5\n",
            "Epoch 9/40\n",
            "\n",
            "Epoch 00009: LearningRateScheduler setting learning rate to 0.0008445946.\n",
            "60000/60000 [==============================] - 12s 201us/step - loss: 0.0942 - acc: 0.9876 - val_loss: 0.1078 - val_acc: 0.9838\n",
            "\n",
            "Epoch 00009: val_acc did not improve from 0.98960\n",
            "Epoch 10/40\n",
            "\n",
            "Epoch 00010: LearningRateScheduler setting learning rate to 0.0007749935.\n",
            "60000/60000 [==============================] - 12s 205us/step - loss: 0.0901 - acc: 0.9883 - val_loss: 0.1153 - val_acc: 0.9813\n",
            "\n",
            "Epoch 00010: val_acc did not improve from 0.98960\n",
            "Epoch 11/40\n",
            "\n",
            "Epoch 00011: LearningRateScheduler setting learning rate to 0.0007159905.\n",
            "60000/60000 [==============================] - 12s 204us/step - loss: 0.0856 - acc: 0.9891 - val_loss: 0.0915 - val_acc: 0.9871\n",
            "\n",
            "Epoch 00011: val_acc did not improve from 0.98960\n",
            "Epoch 12/40\n",
            "\n",
            "Epoch 00012: LearningRateScheduler setting learning rate to 0.000665336.\n",
            "60000/60000 [==============================] - 13s 212us/step - loss: 0.0821 - acc: 0.9890 - val_loss: 0.0765 - val_acc: 0.9909\n",
            "\n",
            "Epoch 00012: val_acc improved from 0.98960 to 0.99090, saving model to Fourth_weights/weights-improvement-12-0.99.hdf5\n",
            "Epoch 13/40\n",
            "\n",
            "Epoch 00013: LearningRateScheduler setting learning rate to 0.0006213753.\n",
            "60000/60000 [==============================] - 12s 204us/step - loss: 0.0782 - acc: 0.9897 - val_loss: 0.0807 - val_acc: 0.9876\n",
            "\n",
            "Epoch 00013: val_acc did not improve from 0.99090\n",
            "Epoch 14/40\n",
            "\n",
            "Epoch 00014: LearningRateScheduler setting learning rate to 0.0005828638.\n",
            "60000/60000 [==============================] - 12s 200us/step - loss: 0.0766 - acc: 0.9894 - val_loss: 0.0856 - val_acc: 0.9876\n",
            "\n",
            "Epoch 00014: val_acc did not improve from 0.99090\n",
            "Epoch 15/40\n",
            "\n",
            "Epoch 00015: LearningRateScheduler setting learning rate to 0.0005488474.\n",
            "60000/60000 [==============================] - 12s 206us/step - loss: 0.0740 - acc: 0.9901 - val_loss: 0.0816 - val_acc: 0.9885\n",
            "\n",
            "Epoch 00015: val_acc did not improve from 0.99090\n",
            "Epoch 16/40\n",
            "\n",
            "Epoch 00016: LearningRateScheduler setting learning rate to 0.0005185825.\n",
            "60000/60000 [==============================] - 12s 203us/step - loss: 0.0691 - acc: 0.9915 - val_loss: 0.0848 - val_acc: 0.9871\n",
            "\n",
            "Epoch 00016: val_acc did not improve from 0.99090\n",
            "Epoch 17/40\n",
            "\n",
            "Epoch 00017: LearningRateScheduler setting learning rate to 0.000491481.\n",
            "60000/60000 [==============================] - 13s 209us/step - loss: 0.0679 - acc: 0.9910 - val_loss: 0.0771 - val_acc: 0.9894\n",
            "\n",
            "Epoch 00017: val_acc did not improve from 0.99090\n",
            "Epoch 18/40\n",
            "\n",
            "Epoch 00018: LearningRateScheduler setting learning rate to 0.0004670715.\n",
            "60000/60000 [==============================] - 13s 216us/step - loss: 0.0676 - acc: 0.9908 - val_loss: 0.0737 - val_acc: 0.9887\n",
            "\n",
            "Epoch 00018: val_acc did not improve from 0.99090\n",
            "Epoch 19/40\n",
            "\n",
            "Epoch 00019: LearningRateScheduler setting learning rate to 0.0004449718.\n",
            "60000/60000 [==============================] - 13s 218us/step - loss: 0.0645 - acc: 0.9920 - val_loss: 0.0711 - val_acc: 0.9892\n",
            "\n",
            "Epoch 00019: val_acc did not improve from 0.99090\n",
            "Epoch 20/40\n",
            "\n",
            "Epoch 00020: LearningRateScheduler setting learning rate to 0.000424869.\n",
            "60000/60000 [==============================] - 13s 215us/step - loss: 0.0627 - acc: 0.9921 - val_loss: 0.0634 - val_acc: 0.9913\n",
            "\n",
            "Epoch 00020: val_acc improved from 0.99090 to 0.99130, saving model to Fourth_weights/weights-improvement-20-0.99.hdf5\n",
            "Epoch 21/40\n",
            "\n",
            "Epoch 00021: LearningRateScheduler setting learning rate to 0.0004065041.\n",
            "60000/60000 [==============================] - 13s 215us/step - loss: 0.0615 - acc: 0.9920 - val_loss: 0.0985 - val_acc: 0.9807\n",
            "\n",
            "Epoch 00021: val_acc did not improve from 0.99130\n",
            "Epoch 22/40\n",
            "\n",
            "Epoch 00022: LearningRateScheduler setting learning rate to 0.000389661.\n",
            "60000/60000 [==============================] - 13s 215us/step - loss: 0.0596 - acc: 0.9925 - val_loss: 0.0679 - val_acc: 0.9909\n",
            "\n",
            "Epoch 00022: val_acc did not improve from 0.99130\n",
            "Epoch 23/40\n",
            "\n",
            "Epoch 00023: LearningRateScheduler setting learning rate to 0.0003741581.\n",
            "60000/60000 [==============================] - 13s 214us/step - loss: 0.0576 - acc: 0.9929 - val_loss: 0.0628 - val_acc: 0.9916\n",
            "\n",
            "Epoch 00023: val_acc improved from 0.99130 to 0.99160, saving model to Fourth_weights/weights-improvement-23-0.99.hdf5\n",
            "Epoch 24/40\n",
            "\n",
            "Epoch 00024: LearningRateScheduler setting learning rate to 0.0003598417.\n",
            "60000/60000 [==============================] - 13s 215us/step - loss: 0.0571 - acc: 0.9928 - val_loss: 0.0674 - val_acc: 0.9892\n",
            "\n",
            "Epoch 00024: val_acc did not improve from 0.99160\n",
            "Epoch 25/40\n",
            "\n",
            "Epoch 00025: LearningRateScheduler setting learning rate to 0.0003465804.\n",
            "60000/60000 [==============================] - 13s 215us/step - loss: 0.0573 - acc: 0.9924 - val_loss: 0.0590 - val_acc: 0.9914\n",
            "\n",
            "Epoch 00025: val_acc did not improve from 0.99160\n",
            "Epoch 26/40\n",
            "\n",
            "Epoch 00026: LearningRateScheduler setting learning rate to 0.0003342618.\n",
            "60000/60000 [==============================] - 13s 215us/step - loss: 0.0546 - acc: 0.9929 - val_loss: 0.0722 - val_acc: 0.9877\n",
            "\n",
            "Epoch 00026: val_acc did not improve from 0.99160\n",
            "Epoch 27/40\n",
            "\n",
            "Epoch 00027: LearningRateScheduler setting learning rate to 0.0003227889.\n",
            "60000/60000 [==============================] - 13s 215us/step - loss: 0.0546 - acc: 0.9934 - val_loss: 0.0610 - val_acc: 0.9912\n",
            "\n",
            "Epoch 00027: val_acc did not improve from 0.99160\n",
            "Epoch 28/40\n",
            "\n",
            "Epoch 00028: LearningRateScheduler setting learning rate to 0.0003120774.\n",
            "60000/60000 [==============================] - 13s 214us/step - loss: 0.0524 - acc: 0.9937 - val_loss: 0.0574 - val_acc: 0.9921\n",
            "\n",
            "Epoch 00028: val_acc improved from 0.99160 to 0.99210, saving model to Fourth_weights/weights-improvement-28-0.99.hdf5\n",
            "Epoch 29/40\n",
            "\n",
            "Epoch 00029: LearningRateScheduler setting learning rate to 0.000302054.\n",
            "60000/60000 [==============================] - 13s 214us/step - loss: 0.0515 - acc: 0.9937 - val_loss: 0.0501 - val_acc: 0.9938\n",
            "\n",
            "Epoch 00029: val_acc improved from 0.99210 to 0.99380, saving model to Fourth_weights/weights-improvement-29-0.99.hdf5\n",
            "Epoch 30/40\n",
            "\n",
            "Epoch 00030: LearningRateScheduler setting learning rate to 0.0002926544.\n",
            "60000/60000 [==============================] - 13s 215us/step - loss: 0.0512 - acc: 0.9936 - val_loss: 0.0559 - val_acc: 0.9910\n",
            "\n",
            "Epoch 00030: val_acc did not improve from 0.99380\n",
            "Epoch 31/40\n",
            "\n",
            "Epoch 00031: LearningRateScheduler setting learning rate to 0.0002838221.\n",
            "60000/60000 [==============================] - 13s 214us/step - loss: 0.0492 - acc: 0.9944 - val_loss: 0.0539 - val_acc: 0.9923\n",
            "\n",
            "Epoch 00031: val_acc did not improve from 0.99380\n",
            "Epoch 32/40\n",
            "\n",
            "Epoch 00032: LearningRateScheduler setting learning rate to 0.0002755074.\n",
            "60000/60000 [==============================] - 13s 217us/step - loss: 0.0474 - acc: 0.9946 - val_loss: 0.0538 - val_acc: 0.9928\n",
            "\n",
            "Epoch 00032: val_acc did not improve from 0.99380\n",
            "Epoch 33/40\n",
            "\n",
            "Epoch 00033: LearningRateScheduler setting learning rate to 0.000267666.\n",
            "60000/60000 [==============================] - 13s 214us/step - loss: 0.0483 - acc: 0.9940 - val_loss: 0.0567 - val_acc: 0.9910\n",
            "\n",
            "Epoch 00033: val_acc did not improve from 0.99380\n",
            "Epoch 34/40\n",
            "\n",
            "Epoch 00034: LearningRateScheduler setting learning rate to 0.0002602585.\n",
            "60000/60000 [==============================] - 13s 214us/step - loss: 0.0481 - acc: 0.9941 - val_loss: 0.0551 - val_acc: 0.9917\n",
            "\n",
            "Epoch 00034: val_acc did not improve from 0.99380\n",
            "Epoch 35/40\n",
            "\n",
            "Epoch 00035: LearningRateScheduler setting learning rate to 0.00025325.\n",
            "60000/60000 [==============================] - 13s 214us/step - loss: 0.0465 - acc: 0.9944 - val_loss: 0.0574 - val_acc: 0.9910\n",
            "\n",
            "Epoch 00035: val_acc did not improve from 0.99380\n",
            "Epoch 36/40\n",
            "\n",
            "Epoch 00036: LearningRateScheduler setting learning rate to 0.0002466091.\n",
            "60000/60000 [==============================] - 13s 215us/step - loss: 0.0458 - acc: 0.9948 - val_loss: 0.0504 - val_acc: 0.9939\n",
            "\n",
            "Epoch 00036: val_acc improved from 0.99380 to 0.99390, saving model to Fourth_weights/weights-improvement-36-0.99.hdf5\n",
            "Epoch 37/40\n",
            "\n",
            "Epoch 00037: LearningRateScheduler setting learning rate to 0.0002403076.\n",
            "60000/60000 [==============================] - 13s 214us/step - loss: 0.0460 - acc: 0.9942 - val_loss: 0.0596 - val_acc: 0.9910\n",
            "\n",
            "Epoch 00037: val_acc did not improve from 0.99390\n",
            "Epoch 38/40\n",
            "\n",
            "Epoch 00038: LearningRateScheduler setting learning rate to 0.0002343201.\n",
            "60000/60000 [==============================] - 13s 215us/step - loss: 0.0446 - acc: 0.9948 - val_loss: 0.0466 - val_acc: 0.9935\n",
            "\n",
            "Epoch 00038: val_acc did not improve from 0.99390\n",
            "Epoch 39/40\n",
            "\n",
            "Epoch 00039: LearningRateScheduler setting learning rate to 0.0002286237.\n",
            "60000/60000 [==============================] - 13s 214us/step - loss: 0.0438 - acc: 0.9953 - val_loss: 0.0490 - val_acc: 0.9935\n",
            "\n",
            "Epoch 00039: val_acc did not improve from 0.99390\n",
            "Epoch 40/40\n",
            "\n",
            "Epoch 00040: LearningRateScheduler setting learning rate to 0.0002231977.\n",
            "60000/60000 [==============================] - 13s 214us/step - loss: 0.0430 - acc: 0.9951 - val_loss: 0.0523 - val_acc: 0.9921\n",
            "\n",
            "Epoch 00040: val_acc did not improve from 0.99390\n"
          ],
          "name": "stdout"
        }
      ]
    },
    {
      "cell_type": "markdown",
      "metadata": {
        "id": "MMVCVJNspIT3",
        "colab_type": "text"
      },
      "source": [
        "**Model reached a max validation accuracy of 99.26% at 37th epoch**"
      ]
    },
    {
      "cell_type": "markdown",
      "metadata": {
        "id": "BShuGfvQpIT4",
        "colab_type": "text"
      },
      "source": [
        "**Plot train and validation accuray**"
      ]
    },
    {
      "cell_type": "code",
      "metadata": {
        "id": "rRr4KU5PpIT6",
        "colab_type": "code",
        "outputId": "37843a29-88e1-496a-9b1f-b8cd78358c94",
        "colab": {
          "base_uri": "https://localhost:8080/",
          "height": 295
        }
      },
      "source": [
        "# summarize history for accuracy\n",
        "plt.plot(model_logs.history['acc'])\n",
        "plt.plot(model_logs.history['val_acc'])\n",
        "plt.title('model accuracy')\n",
        "plt.ylabel('accuracy')\n",
        "plt.xlabel('epoch')\n",
        "plt.legend(['train', 'validation'], loc='lower right')\n",
        "plt.show()\n"
      ],
      "execution_count": 26,
      "outputs": [
        {
          "output_type": "display_data",
          "data": {
            "image/png": "[encoded data removed]",
            "text/plain": [
              "<Figure size 432x288 with 1 Axes>"
            ]
          },
          "metadata": {
            "tags": []
          }
        }
      ]
    },
    {
      "cell_type": "markdown",
      "metadata": {
        "id": "7BMJtEU-pIUB",
        "colab_type": "text"
      },
      "source": [
        "**Plot train and validation loss**"
      ]
    },
    {
      "cell_type": "code",
      "metadata": {
        "id": "8mRDnJbFpIUC",
        "colab_type": "code",
        "outputId": "675c3493-046a-43f9-82eb-a53fcc46ce98",
        "colab": {
          "base_uri": "https://localhost:8080/",
          "height": 295
        }
      },
      "source": [
        "# summarize history for loss\n",
        "plt.plot(model_logs.history['loss'])\n",
        "plt.plot(model_logs.history['val_loss'])\n",
        "plt.title('model loss')\n",
        "plt.ylabel('loss')\n",
        "plt.xlabel('epoch')\n",
        "plt.legend(['train', 'validation'], loc='upper right')\n",
        "plt.show()"
      ],
      "execution_count": 27,
      "outputs": [
        {
          "output_type": "display_data",
          "data": {
            "image/png": "[encoded data removed]",
            "text/plain": [
              "<Figure size 432x288 with 1 Axes>"
            ]
          },
          "metadata": {
            "tags": []
          }
        }
      ]
    },
    {
      "cell_type": "markdown",
      "metadata": {
        "id": "TR6GMqRqpIUI",
        "colab_type": "text"
      },
      "source": [
        "**Reload best weights and test model**"
      ]
    },
    {
      "cell_type": "markdown",
      "metadata": {
        "id": "U8luYez3pIUJ",
        "colab_type": "text"
      },
      "source": [
        "Redifine model graph"
      ]
    },
    {
      "cell_type": "code",
      "metadata": {
        "id": "lLIftYv1pIUL",
        "colab_type": "code",
        "outputId": "d6b24f2f-e0ce-43c2-ec8f-4ab06d782337",
        "colab": {
          "base_uri": "https://localhost:8080/",
          "height": 1426
        }
      },
      "source": [
        "model = Sequential()\n",
        "\n",
        " \n",
        "model.add(Convolution2D(8, 3, 3,  input_shape=(28,28,1), use_bias=False, kernel_regularizer=regularizers.l2(0.01))) # 26\n",
        "model.add(BatchNormalization())\n",
        "model.add(Activation('relu'))\n",
        "# model.add(Dropout(0.1))\n",
        "\n",
        "\n",
        "model.add(Convolution2D(10, 3, 3,  use_bias=False, kernel_regularizer=regularizers.l2(0.01))) # 24\n",
        "model.add(BatchNormalization())\n",
        "model.add(Activation('relu'))\n",
        "# model.add(Dropout(0.1))\n",
        "\n",
        "model.add(Convolution2D(12, 3, 3,  use_bias=False, kernel_regularizer=regularizers.l2(0.01))) # 22\n",
        "model.add(BatchNormalization())\n",
        "model.add(Activation('relu'))\n",
        "# model.add(Dropout(0.1))\n",
        "\n",
        "model.add(MaxPooling2D(pool_size=(2, 2))) # 11\n",
        "model.add(Convolution2D(8, 1, 1, use_bias=False, kernel_regularizer=regularizers.l2(0.01))) # 11\n",
        "model.add(BatchNormalization())\n",
        "model.add(Activation('relu'))\n",
        "# model.add(Dropout(0.1))\n",
        "\n",
        "model.add(Convolution2D(10, 3, 3,  use_bias=False, kernel_regularizer=regularizers.l2(0.01))) # 9\n",
        "model.add(BatchNormalization())\n",
        "model.add(Activation('relu'))\n",
        "# model.add(Dropout(0.1))\n",
        "\n",
        "model.add(Convolution2D(12, 3, 3,  use_bias=False, kernel_regularizer=regularizers.l2(0.01))) # 7\n",
        "model.add(BatchNormalization())\n",
        "model.add(Activation('relu'))\n",
        "# model.add(Dropout(0.1))\n",
        "\n",
        "model.add(Convolution2D(12, 3, 3,  use_bias=False, kernel_regularizer=regularizers.l2(0.01))) # 5\n",
        "model.add(BatchNormalization())\n",
        "model.add(Activation('relu'))\n",
        "# model.add(Dropout(0.1))\n",
        "\n",
        "model.add(Convolution2D(12, 3, 3,  use_bias=False, kernel_regularizer=regularizers.l2(0.01))) # 3\n",
        "model.add(BatchNormalization())\n",
        "model.add(Activation('relu'))\n",
        "# model.add(Dropout(0.1))\n",
        "\n",
        "model.add(Convolution2D(10, 1,  use_bias=False, kernel_regularizer=regularizers.l2(0.01))) # 3\n",
        "model.add(BatchNormalization())\n",
        "model.add(Activation('relu'))\n",
        "\n",
        "model.add(Convolution2D(10, 3, use_bias=False, kernel_regularizer=regularizers.l2(0.01))) #1\n",
        "\n",
        "model.add(Flatten())\n",
        "\n",
        "model.add(Activation('softmax'))\n",
        "\n",
        "model.summary()"
      ],
      "execution_count": 28,
      "outputs": [
        {
          "output_type": "stream",
          "text": [
            "/usr/local/lib/python3.6/dist-packages/ipykernel_launcher.py:4: UserWarning: Update your `Conv2D` call to the Keras 2 API: `Conv2D(8, (3, 3), input_shape=(28, 28, 1..., use_bias=False, kernel_regularizer=<keras.reg...)`\n",
            "  after removing the cwd from sys.path.\n",
            "/usr/local/lib/python3.6/dist-packages/ipykernel_launcher.py:10: UserWarning: Update your `Conv2D` call to the Keras 2 API: `Conv2D(10, (3, 3), use_bias=False, kernel_regularizer=<keras.reg...)`\n",
            "  # Remove the CWD from sys.path while we load stuff.\n",
            "/usr/local/lib/python3.6/dist-packages/ipykernel_launcher.py:15: UserWarning: Update your `Conv2D` call to the Keras 2 API: `Conv2D(12, (3, 3), use_bias=False, kernel_regularizer=<keras.reg...)`\n",
            "  from ipykernel import kernelapp as app\n",
            "/usr/local/lib/python3.6/dist-packages/ipykernel_launcher.py:21: UserWarning: Update your `Conv2D` call to the Keras 2 API: `Conv2D(8, (1, 1), use_bias=False, kernel_regularizer=<keras.reg...)`\n",
            "/usr/local/lib/python3.6/dist-packages/ipykernel_launcher.py:26: UserWarning: Update your `Conv2D` call to the Keras 2 API: `Conv2D(10, (3, 3), use_bias=False, kernel_regularizer=<keras.reg...)`\n",
            "/usr/local/lib/python3.6/dist-packages/ipykernel_launcher.py:31: UserWarning: Update your `Conv2D` call to the Keras 2 API: `Conv2D(12, (3, 3), use_bias=False, kernel_regularizer=<keras.reg...)`\n",
            "/usr/local/lib/python3.6/dist-packages/ipykernel_launcher.py:36: UserWarning: Update your `Conv2D` call to the Keras 2 API: `Conv2D(12, (3, 3), use_bias=False, kernel_regularizer=<keras.reg...)`\n",
            "/usr/local/lib/python3.6/dist-packages/ipykernel_launcher.py:41: UserWarning: Update your `Conv2D` call to the Keras 2 API: `Conv2D(12, (3, 3), use_bias=False, kernel_regularizer=<keras.reg...)`\n"
          ],
          "name": "stderr"
        },
        {
          "output_type": "stream",
          "text": [
            "_________________________________________________________________\n",
            "Layer (type)                 Output Shape              Param #   \n",
            "=================================================================\n",
            "conv2d_21 (Conv2D)           (None, 26, 26, 8)         72        \n",
            "_________________________________________________________________\n",
            "batch_normalization_20 (Batc (None, 26, 26, 8)         32        \n",
            "_________________________________________________________________\n",
            "activation_12 (Activation)   (None, 26, 26, 8)         0         \n",
            "_________________________________________________________________\n",
            "conv2d_22 (Conv2D)           (None, 24, 24, 10)        720       \n",
            "_________________________________________________________________\n",
            "batch_normalization_21 (Batc (None, 24, 24, 10)        40        \n",
            "_________________________________________________________________\n",
            "activation_13 (Activation)   (None, 24, 24, 10)        0         \n",
            "_________________________________________________________________\n",
            "conv2d_23 (Conv2D)           (None, 22, 22, 12)        1080      \n",
            "_________________________________________________________________\n",
            "batch_normalization_22 (Batc (None, 22, 22, 12)        48        \n",
            "_________________________________________________________________\n",
            "activation_14 (Activation)   (None, 22, 22, 12)        0         \n",
            "_________________________________________________________________\n",
            "max_pooling2d_3 (MaxPooling2 (None, 11, 11, 12)        0         \n",
            "_________________________________________________________________\n",
            "conv2d_24 (Conv2D)           (None, 11, 11, 8)         96        \n",
            "_________________________________________________________________\n",
            "batch_normalization_23 (Batc (None, 11, 11, 8)         32        \n",
            "_________________________________________________________________\n",
            "activation_15 (Activation)   (None, 11, 11, 8)         0         \n",
            "_________________________________________________________________\n",
            "conv2d_25 (Conv2D)           (None, 9, 9, 10)          720       \n",
            "_________________________________________________________________\n",
            "batch_normalization_24 (Batc (None, 9, 9, 10)          40        \n",
            "_________________________________________________________________\n",
            "activation_16 (Activation)   (None, 9, 9, 10)          0         \n",
            "_________________________________________________________________\n",
            "conv2d_26 (Conv2D)           (None, 7, 7, 12)          1080      \n",
            "_________________________________________________________________\n",
            "batch_normalization_25 (Batc (None, 7, 7, 12)          48        \n",
            "_________________________________________________________________\n",
            "activation_17 (Activation)   (None, 7, 7, 12)          0         \n",
            "_________________________________________________________________\n",
            "conv2d_27 (Conv2D)           (None, 5, 5, 12)          1296      \n",
            "_________________________________________________________________\n",
            "batch_normalization_26 (Batc (None, 5, 5, 12)          48        \n",
            "_________________________________________________________________\n",
            "activation_18 (Activation)   (None, 5, 5, 12)          0         \n",
            "_________________________________________________________________\n",
            "conv2d_28 (Conv2D)           (None, 3, 3, 12)          1296      \n",
            "_________________________________________________________________\n",
            "batch_normalization_27 (Batc (None, 3, 3, 12)          48        \n",
            "_________________________________________________________________\n",
            "activation_19 (Activation)   (None, 3, 3, 12)          0         \n",
            "_________________________________________________________________\n",
            "conv2d_29 (Conv2D)           (None, 3, 3, 10)          120       \n",
            "_________________________________________________________________\n",
            "batch_normalization_28 (Batc (None, 3, 3, 10)          40        \n",
            "_________________________________________________________________\n",
            "activation_20 (Activation)   (None, 3, 3, 10)          0         \n",
            "_________________________________________________________________\n",
            "conv2d_30 (Conv2D)           (None, 1, 1, 10)          900       \n",
            "_________________________________________________________________\n",
            "flatten_3 (Flatten)          (None, 10)                0         \n",
            "_________________________________________________________________\n",
            "activation_21 (Activation)   (None, 10)                0         \n",
            "=================================================================\n",
            "Total params: 7,756\n",
            "Trainable params: 7,568\n",
            "Non-trainable params: 188\n",
            "_________________________________________________________________\n"
          ],
          "name": "stdout"
        }
      ]
    },
    {
      "cell_type": "markdown",
      "metadata": {
        "id": "1pJkzSKspIUT",
        "colab_type": "text"
      },
      "source": [
        "**Load best model weights**"
      ]
    },
    {
      "cell_type": "code",
      "metadata": {
        "id": "jOoXh4I0pIUU",
        "colab_type": "code",
        "colab": {}
      },
      "source": [
        "model.load_weights(\"Fourth_weights/weights-improvement-36-0.99.hdf5\")\n",
        "\n",
        "model.compile(loss='categorical_crossentropy',\n",
        "             optimizer='adam',\n",
        "             metrics=['accuracy'])"
      ],
      "execution_count": 0,
      "outputs": []
    },
    {
      "cell_type": "markdown",
      "metadata": {
        "id": "X9qkSAp_pIUY",
        "colab_type": "text"
      },
      "source": [
        "**Test model**"
      ]
    },
    {
      "cell_type": "code",
      "metadata": {
        "id": "M5GmzOVvpIUZ",
        "colab_type": "code",
        "outputId": "47bc7f1b-b6e1-414c-b482-5ff41a373d6d",
        "colab": {
          "base_uri": "https://localhost:8080/",
          "height": 34
        }
      },
      "source": [
        "score = model.evaluate(X_test_stand, Y_test, verbose=0)\n",
        "score"
      ],
      "execution_count": 30,
      "outputs": [
        {
          "output_type": "execute_result",
          "data": {
            "text/plain": [
              "[0.050425318795442584, 0.9939]"
            ]
          },
          "metadata": {
            "tags": []
          },
          "execution_count": 30
        }
      ]
    },
    {
      "cell_type": "markdown",
      "metadata": {
        "id": "40DRnZ1SpIUg",
        "colab_type": "text"
      },
      "source": [
        "**Other metrics to evaluate model performance**\n",
        "- class wise confusion matrix\n",
        "- Sensitivity/ Recall\n",
        "- Precision"
      ]
    },
    {
      "cell_type": "markdown",
      "metadata": {
        "id": "0o4nE7-2pIUh",
        "colab_type": "text"
      },
      "source": [
        "**Class wise confusion matrix**"
      ]
    },
    {
      "cell_type": "code",
      "metadata": {
        "id": "6NzVTKgHpIUi",
        "colab_type": "code",
        "colab": {}
      },
      "source": [
        "# function to plot confusion matrix\n",
        "def plot_confusion_matrix(y_true, y_pred, classes,\n",
        "                          normalize=False,\n",
        "                          title=None,\n",
        "                          cmap=plt.cm.Blues):\n",
        "    \"\"\"\n",
        "    This function prints and plots the confusion matrix.\n",
        "    Normalization can be applied by setting `normalize=True`.\n",
        "    \"\"\"\n",
        "    if not title:\n",
        "        if normalize:\n",
        "            title = 'Normalized confusion matrix'\n",
        "        else:\n",
        "            title = 'Confusion matrix, without normalization'\n",
        "\n",
        "    # Compute confusion matrix\n",
        "    cm = confusion_matrix(y_true, y_pred)\n",
        "    # Only use the labels that appear in the data\n",
        "    classes = [0,1]\n",
        "    if normalize:\n",
        "        cm = cm.astype('float') / cm.sum(axis=1)[:, np.newaxis]\n",
        "        print(\"Normalized confusion matrix\")\n",
        "    else:\n",
        "        print('Confusion matrix, without normalization')\n",
        "\n",
        "    print(cm)\n",
        "\n",
        "    fig, ax = plt.subplots()\n",
        "    im = ax.imshow(cm, interpolation='nearest', cmap=cmap)\n",
        "    ax.figure.colorbar(im, ax=ax)\n",
        "    # We want to show all ticks...\n",
        "    ax.set(xticks=np.arange(cm.shape[1]),\n",
        "           yticks=np.arange(cm.shape[0]),\n",
        "           # ... and label them with the respective list entries\n",
        "           xticklabels=classes, yticklabels=classes,\n",
        "           title=title,\n",
        "           ylabel='True label',\n",
        "           xlabel='Predicted label')\n",
        "\n",
        "    # Rotate the tick labels and set their alignment.\n",
        "    plt.setp(ax.get_xticklabels(), rotation=45, ha=\"right\",\n",
        "             rotation_mode=\"anchor\")\n",
        "\n",
        "    # Loop over data dimensions and create text annotations.\n",
        "    fmt = '.2f' if normalize else 'd'\n",
        "    thresh = cm.max() / 2.\n",
        "    for i in range(cm.shape[0]):\n",
        "        for j in range(cm.shape[1]):\n",
        "            ax.text(j, i, format(cm[i, j], fmt),\n",
        "                    ha=\"center\", va=\"center\",\n",
        "                    color=\"white\" if cm[i, j] > thresh else \"black\")\n",
        "    fig.tight_layout()\n",
        "    plt.show()"
      ],
      "execution_count": 0,
      "outputs": []
    },
    {
      "cell_type": "code",
      "metadata": {
        "scrolled": false,
        "id": "BCdA2paJpIUm",
        "colab_type": "code",
        "outputId": "264cb03d-f168-496e-eac4-86724d72a577",
        "colab": {
          "base_uri": "https://localhost:8080/",
          "height": 6708
        }
      },
      "source": [
        "# create class wise data holder\n",
        "class_wise_test_data = {}\n",
        "for image, label in zip(X_test_stand, Y_test):\n",
        "    class_wise_test_data.setdefault(np.argmax(label), []).append(image)\n",
        "\n",
        "# confusion matircies holder\n",
        "class_wise_cf_matrix = defaultdict(dict)\n",
        "for label, features in class_wise_test_data.items():\n",
        "    # convert list of arrays to np array\n",
        "    features_array = np.array(features)\n",
        "    \n",
        "    # get model predicitons for a given class test data\n",
        "    predictions_array = model.predict(features_array)\n",
        "    \n",
        "    # convert 10 dimensional prediction to single number\n",
        "    predictions = []\n",
        "    for prediciton_array in predictions_array:\n",
        "        predictions.append(np.argmax(prediciton_array))\n",
        "    \n",
        "    # create true labels\n",
        "    labels = [label]*len(predictions)\n",
        "    \n",
        "    # plot the frequencies of wrong predicitions for given class as other class\n",
        "    freq_pred = Counter(predictions)\n",
        "    del freq_pred[label]\n",
        "    if len(freq_pred)>1:\n",
        "        sns.barplot(x = list(freq_pred.keys()), y = list(freq_pred.values()))\n",
        "        plt.xlabel('Other Classes')\n",
        "        plt.ylabel('False negaitves')\n",
        "        plt.title(f'{label} is wrongly predicted as:')\n",
        "\n",
        "    \n",
        "    \n",
        "    # convert labels and predictions to 1/0 format\n",
        "    predictions_binary = [1 if pred==label else 0 for pred in predictions]\n",
        "    labels_binary = [1 if y_true==label else 0 for y_true in labels] \n",
        "    \n",
        "    # get confusion matrix\n",
        "    cf = confusion_matrix(labels_binary, predictions_binary, labels=[0,1])\n",
        "    tn, fp, fn, tp = cf.ravel()\n",
        "\n",
        "    print('\\n')\n",
        "    display(Markdown(f\"### Class: {label}\"))\n",
        "    \n",
        "    # save cf matix values class wise\n",
        "    class_wise_cf_matrix[label] = {'tn':tn,\n",
        "                                   'fp':fp,\n",
        "                                   'fn':fn,\n",
        "                                   'tp':tp,\n",
        "                                   'cf':cf\n",
        "                                  } \n",
        "    cf_plot = plot_confusion_matrix(y_true = labels_binary, y_pred = predictions_binary, classes = [0,1],\n",
        "                          normalize=False,\n",
        "                          title=f'Confusion matrix for samples from {label}:',\n",
        "                          cmap=plt.cm.Blues)\n",
        "    \n",
        "    # caluclate sensitivity and specificity\n",
        "    sensitivity = tp/(tp+fn)\n",
        "    precision = tp/(tp+fp)\n",
        "    display(Markdown(f'Sensitivity: {sensitivity}'))\n",
        "    display(Markdown(f'Precision: {precision}'))\n"
      ],
      "execution_count": 35,
      "outputs": [
        {
          "output_type": "stream",
          "text": [
            "\n",
            "\n"
          ],
          "name": "stdout"
        },
        {
          "output_type": "display_data",
          "data": {
            "text/markdown": "### Class: 7",
            "text/plain": [
              "<IPython.core.display.Markdown object>"
            ]
          },
          "metadata": {
            "tags": []
          }
        },
        {
          "output_type": "stream",
          "text": [
            "Confusion matrix, without normalization\n",
            "[[   0    0]\n",
            " [   8 1020]]\n"
          ],
          "name": "stdout"
        },
        {
          "output_type": "display_data",
          "data": {
            "image/png": "[encoded data removed]",
            "text/plain": [
              "<Figure size 432x288 with 1 Axes>"
            ]
          },
          "metadata": {
            "tags": []
          }
        },
        {
          "output_type": "display_data",
          "data": {
            "image/png": "[encoded data removed]",
            "text/plain": [
              "<Figure size 432x288 with 2 Axes>"
            ]
          },
          "metadata": {
            "tags": []
          }
        },
        {
          "output_type": "display_data",
          "data": {
            "text/markdown": "Sensitivity: 0.9922178988326849",
            "text/plain": [
              "<IPython.core.display.Markdown object>"
            ]
          },
          "metadata": {
            "tags": []
          }
        },
        {
          "output_type": "display_data",
          "data": {
            "text/markdown": "Precision: 1.0",
            "text/plain": [
              "<IPython.core.display.Markdown object>"
            ]
          },
          "metadata": {
            "tags": []
          }
        },
        {
          "output_type": "stream",
          "text": [
            "\n",
            "\n"
          ],
          "name": "stdout"
        },
        {
          "output_type": "display_data",
          "data": {
            "text/markdown": "### Class: 2",
            "text/plain": [
              "<IPython.core.display.Markdown object>"
            ]
          },
          "metadata": {
            "tags": []
          }
        },
        {
          "output_type": "stream",
          "text": [
            "Confusion matrix, without normalization\n",
            "[[   0    0]\n",
            " [   4 1028]]\n"
          ],
          "name": "stdout"
        },
        {
          "output_type": "display_data",
          "data": {
            "image/png": "[encoded data removed]",
            "text/plain": [
              "<Figure size 432x288 with 1 Axes>"
            ]
          },
          "metadata": {
            "tags": []
          }
        },
        {
          "output_type": "display_data",
          "data": {
            "image/png": "[encoded data removed]",
            "text/plain": [
              "<Figure size 432x288 with 2 Axes>"
            ]
          },
          "metadata": {
            "tags": []
          }
        },
        {
          "output_type": "display_data",
          "data": {
            "text/markdown": "Sensitivity: 0.9961240310077519",
            "text/plain": [
              "<IPython.core.display.Markdown object>"
            ]
          },
          "metadata": {
            "tags": []
          }
        },
        {
          "output_type": "display_data",
          "data": {
            "text/markdown": "Precision: 1.0",
            "text/plain": [
              "<IPython.core.display.Markdown object>"
            ]
          },
          "metadata": {
            "tags": []
          }
        },
        {
          "output_type": "stream",
          "text": [
            "\n",
            "\n"
          ],
          "name": "stdout"
        },
        {
          "output_type": "display_data",
          "data": {
            "text/markdown": "### Class: 1",
            "text/plain": [
              "<IPython.core.display.Markdown object>"
            ]
          },
          "metadata": {
            "tags": []
          }
        },
        {
          "output_type": "stream",
          "text": [
            "Confusion matrix, without normalization\n",
            "[[   0    0]\n",
            " [   1 1134]]\n"
          ],
          "name": "stdout"
        },
        {
          "output_type": "display_data",
          "data": {
            "image/png": "[encoded data removed]",
            "text/plain": [
              "<Figure size 432x288 with 2 Axes>"
            ]
          },
          "metadata": {
            "tags": []
          }
        },
        {
          "output_type": "display_data",
          "data": {
            "text/markdown": "Sensitivity: 0.9991189427312775",
            "text/plain": [
              "<IPython.core.display.Markdown object>"
            ]
          },
          "metadata": {
            "tags": []
          }
        },
        {
          "output_type": "display_data",
          "data": {
            "text/markdown": "Precision: 1.0",
            "text/plain": [
              "<IPython.core.display.Markdown object>"
            ]
          },
          "metadata": {
            "tags": []
          }
        },
        {
          "output_type": "stream",
          "text": [
            "\n",
            "\n"
          ],
          "name": "stdout"
        },
        {
          "output_type": "display_data",
          "data": {
            "text/markdown": "### Class: 0",
            "text/plain": [
              "<IPython.core.display.Markdown object>"
            ]
          },
          "metadata": {
            "tags": []
          }
        },
        {
          "output_type": "stream",
          "text": [
            "Confusion matrix, without normalization\n",
            "[[  0   0]\n",
            " [  4 976]]\n"
          ],
          "name": "stdout"
        },
        {
          "output_type": "display_data",
          "data": {
            "image/png": "[encoded data removed]",
            "text/plain": [
              "<Figure size 432x288 with 1 Axes>"
            ]
          },
          "metadata": {
            "tags": []
          }
        },
        {
          "output_type": "display_data",
          "data": {
            "image/png": "[encoded data removed]",
            "text/plain": [
              "<Figure size 432x288 with 2 Axes>"
            ]
          },
          "metadata": {
            "tags": []
          }
        },
        {
          "output_type": "display_data",
          "data": {
            "text/markdown": "Sensitivity: 0.9959183673469387",
            "text/plain": [
              "<IPython.core.display.Markdown object>"
            ]
          },
          "metadata": {
            "tags": []
          }
        },
        {
          "output_type": "display_data",
          "data": {
            "text/markdown": "Precision: 1.0",
            "text/plain": [
              "<IPython.core.display.Markdown object>"
            ]
          },
          "metadata": {
            "tags": []
          }
        },
        {
          "output_type": "stream",
          "text": [
            "\n",
            "\n"
          ],
          "name": "stdout"
        },
        {
          "output_type": "display_data",
          "data": {
            "text/markdown": "### Class: 4",
            "text/plain": [
              "<IPython.core.display.Markdown object>"
            ]
          },
          "metadata": {
            "tags": []
          }
        },
        {
          "output_type": "stream",
          "text": [
            "Confusion matrix, without normalization\n",
            "[[  0   0]\n",
            " [  5 977]]\n"
          ],
          "name": "stdout"
        },
        {
          "output_type": "display_data",
          "data": {
            "image/png": "[encoded data removed]",
            "text/plain": [
              "<Figure size 432x288 with 1 Axes>"
            ]
          },
          "metadata": {
            "tags": []
          }
        },
        {
          "output_type": "display_data",
          "data": {
            "image/png": "[encoded data removed]",
            "text/plain": [
              "<Figure size 432x288 with 2 Axes>"
            ]
          },
          "metadata": {
            "tags": []
          }
        },
        {
          "output_type": "display_data",
          "data": {
            "text/markdown": "Sensitivity: 0.994908350305499",
            "text/plain": [
              "<IPython.core.display.Markdown object>"
            ]
          },
          "metadata": {
            "tags": []
          }
        },
        {
          "output_type": "display_data",
          "data": {
            "text/markdown": "Precision: 1.0",
            "text/plain": [
              "<IPython.core.display.Markdown object>"
            ]
          },
          "metadata": {
            "tags": []
          }
        },
        {
          "output_type": "stream",
          "text": [
            "\n",
            "\n"
          ],
          "name": "stdout"
        },
        {
          "output_type": "display_data",
          "data": {
            "text/markdown": "### Class: 9",
            "text/plain": [
              "<IPython.core.display.Markdown object>"
            ]
          },
          "metadata": {
            "tags": []
          }
        },
        {
          "output_type": "stream",
          "text": [
            "Confusion matrix, without normalization\n",
            "[[  0   0]\n",
            " [ 13 996]]\n"
          ],
          "name": "stdout"
        },
        {
          "output_type": "display_data",
          "data": {
            "image/png": "[encoded data removed]",
            "text/plain": [
              "<Figure size 432x288 with 1 Axes>"
            ]
          },
          "metadata": {
            "tags": []
          }
        },
        {
          "output_type": "display_data",
          "data": {
            "image/png": "[encoded data removed]",
            "text/plain": [
              "<Figure size 432x288 with 2 Axes>"
            ]
          },
          "metadata": {
            "tags": []
          }
        },
        {
          "output_type": "display_data",
          "data": {
            "text/markdown": "Sensitivity: 0.9871159563924677",
            "text/plain": [
              "<IPython.core.display.Markdown object>"
            ]
          },
          "metadata": {
            "tags": []
          }
        },
        {
          "output_type": "display_data",
          "data": {
            "text/markdown": "Precision: 1.0",
            "text/plain": [
              "<IPython.core.display.Markdown object>"
            ]
          },
          "metadata": {
            "tags": []
          }
        },
        {
          "output_type": "stream",
          "text": [
            "\n",
            "\n"
          ],
          "name": "stdout"
        },
        {
          "output_type": "display_data",
          "data": {
            "text/markdown": "### Class: 5",
            "text/plain": [
              "<IPython.core.display.Markdown object>"
            ]
          },
          "metadata": {
            "tags": []
          }
        },
        {
          "output_type": "stream",
          "text": [
            "Confusion matrix, without normalization\n",
            "[[  0   0]\n",
            " [  4 888]]\n"
          ],
          "name": "stdout"
        },
        {
          "output_type": "display_data",
          "data": {
            "image/png": "[encoded data removed]",
            "text/plain": [
              "<Figure size 432x288 with 1 Axes>"
            ]
          },
          "metadata": {
            "tags": []
          }
        },
        {
          "output_type": "display_data",
          "data": {
            "image/png": "[encoded data removed]",
            "text/plain": [
              "<Figure size 432x288 with 2 Axes>"
            ]
          },
          "metadata": {
            "tags": []
          }
        },
        {
          "output_type": "display_data",
          "data": {
            "text/markdown": "Sensitivity: 0.9955156950672646",
            "text/plain": [
              "<IPython.core.display.Markdown object>"
            ]
          },
          "metadata": {
            "tags": []
          }
        },
        {
          "output_type": "display_data",
          "data": {
            "text/markdown": "Precision: 1.0",
            "text/plain": [
              "<IPython.core.display.Markdown object>"
            ]
          },
          "metadata": {
            "tags": []
          }
        },
        {
          "output_type": "stream",
          "text": [
            "\n",
            "\n"
          ],
          "name": "stdout"
        },
        {
          "output_type": "display_data",
          "data": {
            "text/markdown": "### Class: 6",
            "text/plain": [
              "<IPython.core.display.Markdown object>"
            ]
          },
          "metadata": {
            "tags": []
          }
        },
        {
          "output_type": "stream",
          "text": [
            "Confusion matrix, without normalization\n",
            "[[  0   0]\n",
            " [ 11 947]]\n"
          ],
          "name": "stdout"
        },
        {
          "output_type": "display_data",
          "data": {
            "image/png": "[encoded data removed]",
            "text/plain": [
              "<Figure size 432x288 with 1 Axes>"
            ]
          },
          "metadata": {
            "tags": []
          }
        },
        {
          "output_type": "display_data",
          "data": {
            "image/png": "[encoded data removed]",
            "text/plain": [
              "<Figure size 432x288 with 2 Axes>"
            ]
          },
          "metadata": {
            "tags": []
          }
        },
        {
          "output_type": "display_data",
          "data": {
            "text/markdown": "Sensitivity: 0.988517745302714",
            "text/plain": [
              "<IPython.core.display.Markdown object>"
            ]
          },
          "metadata": {
            "tags": []
          }
        },
        {
          "output_type": "display_data",
          "data": {
            "text/markdown": "Precision: 1.0",
            "text/plain": [
              "<IPython.core.display.Markdown object>"
            ]
          },
          "metadata": {
            "tags": []
          }
        },
        {
          "output_type": "stream",
          "text": [
            "\n",
            "\n"
          ],
          "name": "stdout"
        },
        {
          "output_type": "display_data",
          "data": {
            "text/markdown": "### Class: 3",
            "text/plain": [
              "<IPython.core.display.Markdown object>"
            ]
          },
          "metadata": {
            "tags": []
          }
        },
        {
          "output_type": "stream",
          "text": [
            "Confusion matrix, without normalization\n",
            "[[   0    0]\n",
            " [   3 1007]]\n"
          ],
          "name": "stdout"
        },
        {
          "output_type": "display_data",
          "data": {
            "image/png": "[encoded data removed]",
            "text/plain": [
              "<Figure size 432x288 with 1 Axes>"
            ]
          },
          "metadata": {
            "tags": []
          }
        },
        {
          "output_type": "display_data",
          "data": {
            "image/png": "[encoded data removed]",
            "text/plain": [
              "<Figure size 432x288 with 2 Axes>"
            ]
          },
          "metadata": {
            "tags": []
          }
        },
        {
          "output_type": "display_data",
          "data": {
            "text/markdown": "Sensitivity: 0.997029702970297",
            "text/plain": [
              "<IPython.core.display.Markdown object>"
            ]
          },
          "metadata": {
            "tags": []
          }
        },
        {
          "output_type": "display_data",
          "data": {
            "text/markdown": "Precision: 1.0",
            "text/plain": [
              "<IPython.core.display.Markdown object>"
            ]
          },
          "metadata": {
            "tags": []
          }
        },
        {
          "output_type": "stream",
          "text": [
            "\n",
            "\n"
          ],
          "name": "stdout"
        },
        {
          "output_type": "display_data",
          "data": {
            "text/markdown": "### Class: 8",
            "text/plain": [
              "<IPython.core.display.Markdown object>"
            ]
          },
          "metadata": {
            "tags": []
          }
        },
        {
          "output_type": "stream",
          "text": [
            "Confusion matrix, without normalization\n",
            "[[  0   0]\n",
            " [  8 966]]\n"
          ],
          "name": "stdout"
        },
        {
          "output_type": "display_data",
          "data": {
            "image/png": "[encoded data removed]",
            "text/plain": [
              "<Figure size 432x288 with 1 Axes>"
            ]
          },
          "metadata": {
            "tags": []
          }
        },
        {
          "output_type": "display_data",
          "data": {
            "image/png": "[encoded data removed]",
            "text/plain": [
              "<Figure size 432x288 with 2 Axes>"
            ]
          },
          "metadata": {
            "tags": []
          }
        },
        {
          "output_type": "display_data",
          "data": {
            "text/markdown": "Sensitivity: 0.9917864476386037",
            "text/plain": [
              "<IPython.core.display.Markdown object>"
            ]
          },
          "metadata": {
            "tags": []
          }
        },
        {
          "output_type": "display_data",
          "data": {
            "text/markdown": "Precision: 1.0",
            "text/plain": [
              "<IPython.core.display.Markdown object>"
            ]
          },
          "metadata": {
            "tags": []
          }
        }
      ]
    },
    {
      "cell_type": "markdown",
      "metadata": {
        "id": "FE5pI9hSpIUs",
        "colab_type": "text"
      },
      "source": [
        "Clearly most of the missclassified predictions are intutive to understand from the frequency plots."
      ]
    },
    {
      "cell_type": "markdown",
      "metadata": {
        "id": "GOh-aUfgpIUt",
        "colab_type": "text"
      },
      "source": [
        "**Plot false negatives for each class**"
      ]
    },
    {
      "cell_type": "code",
      "metadata": {
        "id": "1J2njcIxpIUu",
        "colab_type": "code",
        "outputId": "64741d96-9576-43c0-e4dc-75f1ca7e8b1f",
        "colab": {
          "base_uri": "https://localhost:8080/",
          "height": 312
        }
      },
      "source": [
        "class_wise_fn = {}\n",
        "for label, metrics in class_wise_cf_matrix.items():\n",
        "    class_wise_fn[label] = metrics['fn']\n",
        "sns.barplot(x = list(class_wise_fn.keys()), y = list(class_wise_fn.values()))\n",
        "plt.xlabel('Classes')\n",
        "plt.ylabel('False negaitves')\n",
        "plt.title('Class wise False negative count')\n"
      ],
      "execution_count": 36,
      "outputs": [
        {
          "output_type": "execute_result",
          "data": {
            "text/plain": [
              "Text(0.5, 1.0, 'Class wise False negative count')"
            ]
          },
          "metadata": {
            "tags": []
          },
          "execution_count": 36
        },
        {
          "output_type": "display_data",
          "data": {
            "image/png": "[encoded data removed]",
            "text/plain": [
              "<Figure size 432x288 with 1 Axes>"
            ]
          },
          "metadata": {
            "tags": []
          }
        }
      ]
    },
    {
      "cell_type": "markdown",
      "metadata": {
        "id": "6Ir63AQ_pIUy",
        "colab_type": "text"
      },
      "source": [
        "**Visualize a layer**"
      ]
    },
    {
      "cell_type": "code",
      "metadata": {
        "id": "Nle9JyJSpIUy",
        "colab_type": "code",
        "outputId": "2aaa8efa-3aca-4b09-8407-e7985c862ab0",
        "colab": {
          "base_uri": "https://localhost:8080/",
          "height": 741
        }
      },
      "source": [
        "import numpy as np\n",
        "from matplotlib import pyplot as plt\n",
        "from keras import backend as K\n",
        "%matplotlib inline\n",
        "\n",
        "layer_dict = dict([(layer.name, layer) for layer in model.layers])\n",
        "# util function to convert a tensor into a valid image\n",
        "def deprocess_image(x):\n",
        "    # normalize tensor: center on 0., ensure std is 0.1\n",
        "    x -= x.mean()\n",
        "    x /= (x.std() + 1e-5)\n",
        "    x *= 0.1\n",
        "\n",
        "    # clip to [0, 1]\n",
        "    x += 0.5\n",
        "    x = np.clip(x, 0, 1)\n",
        "\n",
        "    # convert to RGB array\n",
        "    x *= 255\n",
        "    #x = x.transpose((1, 2, 0))\n",
        "    x = np.clip(x, 0, 255).astype('uint8')\n",
        "    return x\n",
        "\n",
        "def vis_img_in_filter(img = np.array(X_train[2]).reshape((1, 28, 28, 1)).astype(np.float64), \n",
        "                      layer_name = 'conv2d_23'):\n",
        "    layer_output = layer_dict[layer_name].output\n",
        "    img_ascs = list()\n",
        "    for filter_index in range(layer_output.shape[3]):\n",
        "        # build a loss function that maximizes the activation\n",
        "        # of the nth filter of the layer considered\n",
        "        loss = K.mean(layer_output[:, :, :, filter_index])\n",
        "\n",
        "        # compute the gradient of the input picture wrt this loss\n",
        "        grads = K.gradients(loss, model.input)[0]\n",
        "\n",
        "        # normalization trick: we normalize the gradient\n",
        "        grads /= (K.sqrt(K.mean(K.square(grads))) + 1e-5)\n",
        "\n",
        "        # this function returns the loss and grads given the input picture\n",
        "        iterate = K.function([model.input], [loss, grads])\n",
        "\n",
        "        # step size for gradient ascent\n",
        "        step = 5.\n",
        "\n",
        "        img_asc = np.array(img)\n",
        "        # run gradient ascent for 20 steps\n",
        "        for i in range(2000):\n",
        "            loss_value, grads_value = iterate([img_asc])\n",
        "            img_asc += grads_value * step\n",
        "\n",
        "        img_asc = img_asc[0]\n",
        "        img_ascs.append(deprocess_image(img_asc).reshape((28, 28)))\n",
        "        \n",
        "    if layer_output.shape[3] >= 35:\n",
        "        plot_x, plot_y = 6, 6\n",
        "    elif layer_output.shape[3] >= 23:\n",
        "        plot_x, plot_y = 4, 6\n",
        "    elif layer_output.shape[3] >= 11:\n",
        "        plot_x, plot_y = 2, 6\n",
        "    else:\n",
        "        plot_x, plot_y = 2, 3\n",
        "    fig, ax = plt.subplots(plot_x, plot_y, figsize = (12, 12))\n",
        "    ax[0, 0].imshow(img.reshape((28, 28)), cmap = 'gray')\n",
        "    ax[0, 0].set_title('Input image')\n",
        "    fig.suptitle('Input image and %s filters' % (layer_name,))\n",
        "    fig.tight_layout(pad = 0.3, rect = [0, 0, 0.9, 0.9])\n",
        "    for (x, y) in [(i, j) for i in range(plot_x) for j in range(plot_y)]:\n",
        "        if x == 0 and y == 0:\n",
        "            continue\n",
        "        ax[x, y].imshow(img_ascs[x * plot_y + y - 1], cmap = 'gray')\n",
        "        ax[x, y].set_title('filter %d' % (x * plot_y + y - 1))\n",
        "\n",
        "vis_img_in_filter()"
      ],
      "execution_count": 37,
      "outputs": [
        {
          "output_type": "display_data",
          "data": {
            "image/png": "[encoded data removed]",
            "text/plain": [
              "<Figure size 864x864 with 12 Axes>"
            ]
          },
          "metadata": {
            "tags": []
          }
        }
      ]
    },
    {
      "cell_type": "code",
      "metadata": {
        "id": "0jBs34EqpIU6",
        "colab_type": "code",
        "colab": {}
      },
      "source": [
        ""
      ],
      "execution_count": 0,
      "outputs": []
    }
  ]
}